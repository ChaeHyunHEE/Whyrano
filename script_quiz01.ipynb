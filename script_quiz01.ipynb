{
 "cells": [
  {
   "cell_type": "markdown",
   "metadata": {},
   "source": [
    "- in 연산자 공부하려고 여러가지 코드"
   ]
  },
  {
   "cell_type": "code",
   "execution_count": 4,
   "metadata": {},
   "outputs": [
    {
     "name": "stdout",
     "output_type": "stream",
     "text": [
      "True\n",
      "True\n"
     ]
    }
   ],
   "source": [
    "s= 'Hello World!'\n",
    "print('Hello' in s) #in은 자료형 상관 없이 다 쓸 수 있나?\n",
    "print('hello' not in s)"
   ]
  },
  {
   "cell_type": "code",
   "execution_count": 2,
   "metadata": {},
   "outputs": [
    {
     "name": "stdout",
     "output_type": "stream",
     "text": [
      "Enter a string : my python\n",
      "<class 'str'>\n",
      "python is in my python\n"
     ]
    }
   ],
   "source": [
    "t = input('Enter a string : ')\n",
    "print(type(t))\n",
    "if 'python' in t :\n",
    "    print('python is in', t)\n",
    "else :\n",
    "    print('python is not in', t)"
   ]
  },
  {
   "cell_type": "code",
   "execution_count": 8,
   "metadata": {},
   "outputs": [
    {
     "name": "stdout",
     "output_type": "stream",
     "text": [
      "Enter a string : Hello World!\n",
      "python is not in \"Hello World!\"\n"
     ]
    }
   ],
   "source": [
    "t = input('Enter a string : ')\n",
    "\n",
    "if 'python' in t :\n",
    "    print('python is in \"{0}\"' .format(t))\n",
    "else :\n",
    "    print('python is not in \"{0}\"' .format(t))"
   ]
  },
  {
   "cell_type": "code",
   "execution_count": 10,
   "metadata": {},
   "outputs": [
    {
     "name": "stdout",
     "output_type": "stream",
     "text": [
      "one 1\n",
      "two 2\n",
      "three 3\n",
      "<class 'str'>\n",
      "<class 'int'>\n"
     ]
    }
   ],
   "source": [
    "LL = [['one', 1], ['two', 2], ['three', 3]]\n",
    "for name, num in LL:\n",
    "    print(name, num)\n",
    "print(type(name))\n",
    "print(type(num))"
   ]
  },
  {
   "cell_type": "code",
   "execution_count": 23,
   "metadata": {},
   "outputs": [
    {
     "name": "stdout",
     "output_type": "stream",
     "text": [
      "있습니다.\n",
      "1\n",
      "있습니다.\n",
      "2\n",
      "있습니다.\n",
      "3\n",
      "있습니다.\n",
      "test\n",
      "\n",
      "True\n",
      "True\n",
      "\n",
      "<class 'int'>\n",
      "<class 'str'>\n",
      "True\n"
     ]
    }
   ],
   "source": [
    "test = [1, 2, 3, 'test']\n",
    "\n",
    "for a in test :\n",
    "    print('있습니다.')\n",
    "    print(a)\n",
    "    \n",
    "print()\n",
    "\n",
    "print(1 in test)\n",
    "print('test' in test)\n",
    "\n",
    "print()\n",
    "\n",
    "print(type(10))\n",
    "a = str(10)\n",
    "b = str(101020)\n",
    "print(type(a))\n",
    "print(a in b)"
   ]
  },
  {
   "cell_type": "markdown",
   "metadata": {},
   "source": [
    "- Q1"
   ]
  },
  {
   "cell_type": "code",
   "execution_count": 31,
   "metadata": {},
   "outputs": [
    {
     "name": "stdout",
     "output_type": "stream",
     "text": [
      "1000~9999 사이 10 포함 개수는 ==> 279\n"
     ]
    }
   ],
   "source": [
    "b = str(10)\n",
    "count = 0\n",
    "\n",
    "for i in range(1000, 10000) :\n",
    "    a = str(i)\n",
    "    if b in a :\n",
    "        count = count + 1\n",
    "        #print(a)\n",
    "        \n",
    "print('1000~9999 사이 10 포함 개수는 ==> {0}' .format(count))"
   ]
  },
  {
   "cell_type": "markdown",
   "metadata": {},
   "source": [
    "- Q2\n",
    "    - 위와 같이 문자열 in 문자열 이렇게 if문 돌려서 해봤음...\n",
    "    - 근데 교수님 의도를 모르겠어서리 리스트로도 해봐야겠음"
   ]
  },
  {
   "cell_type": "code",
   "execution_count": 179,
   "metadata": {},
   "outputs": [
    {
     "name": "stdout",
     "output_type": "stream",
     "text": [
      "10~99999 숫자 가운데 20배수이며, '080'을 포함하는 숫자 개수==> 108\n"
     ]
    }
   ],
   "source": [
    "count = 0\n",
    "\n",
    "for i in range(10, 100000) :\n",
    "    a = str(i)  \n",
    "    if '080' in a : \n",
    "        a = int(a) \n",
    "        if a % 20 == 0 : \n",
    "            count = count + 1\n",
    "\n",
    "print('10~99999 숫자 가운데 20배수이며, \\'080\\'을 포함하는 숫자 개수==> {0}'.format(count))"
   ]
  },
  {
   "cell_type": "code",
   "execution_count": null,
   "metadata": {},
   "outputs": [],
   "source": []
  },
  {
   "cell_type": "markdown",
   "metadata": {},
   "source": [
    "- Q3\n",
    "    - 어렵당..."
   ]
  },
  {
   "cell_type": "code",
   "execution_count": 56,
   "metadata": {},
   "outputs": [
    {
     "name": "stdout",
     "output_type": "stream",
     "text": [
      "1\n",
      "<class 'int'>\n"
     ]
    }
   ],
   "source": [
    "import random\n",
    "\n",
    "\"\"\"a = [1, 2, 3]\n",
    "k= random.choice(a)\n",
    "print(k)\n",
    "\n",
    "print(random.choice(a))\n",
    "print(random.choice(a))\n",
    "print(random.choice(a))\n",
    "print(random.choice(a))\"\"\"\n",
    "\n",
    "print(random.choice([1, 2, 3]))\n",
    "print(type(random.choice([1, 2, 3])))"
   ]
  },
  {
   "cell_type": "code",
   "execution_count": null,
   "metadata": {},
   "outputs": [],
   "source": [
    "import random\n",
    "\n",
    "cheolsoo = 4"
   ]
  },
  {
   "cell_type": "markdown",
   "metadata": {},
   "source": [
    "# 뭐든 해보자... 일단...\n",
    "\n",
    "- 근데 3번 같은 경우는... 교수님도 일단 우리가 의도대로 풀거라고 생각 별로 안하실거 같기도... 못풀더라도 그냥 어떻게 어떻게 하려고 했는데 뭐에서 막힌다... 이렇게 잘 적어서 내야겠다...\n",
    "- 자료구조 -> 자바 -> 스크립트 이렇게 해야겠다..."
   ]
  },
  {
   "cell_type": "code",
   "execution_count": 178,
   "metadata": {},
   "outputs": [
    {
     "name": "stdout",
     "output_type": "stream",
     "text": [
      "4->3->0->3->0->1->4->8->7->8->5->4->3->0->3->6->3->6->7->8->\n",
      "\n",
      "8\n",
      "161243136\n"
     ]
    }
   ],
   "source": [
    "import random\n",
    "\n",
    "cheolsoo = 4\n",
    "total = 1\n",
    "print('4->', end=\"\")\n",
    "for i in range(19) :\n",
    "    if cheolsoo == 4 :\n",
    "        cheolsoo = random.choice([1, 3, 7, 8])\n",
    "        total *= 4\n",
    "        print(cheolsoo, end=\"->\")\n",
    "    elif cheolsoo == 0 :\n",
    "        cheolsoo = random.choice([1, 3])\n",
    "        total *= 2\n",
    "        print(cheolsoo, end=\"->\")\n",
    "    elif cheolsoo == 1 :\n",
    "        cheolsoo = random.choice([0, 2, 4])\n",
    "        total *= 3\n",
    "        print(cheolsoo, end=\"->\")\n",
    "    elif cheolsoo == 2 :\n",
    "        cheolsoo = random.choice([1, 5])\n",
    "        total *= 2\n",
    "        print(cheolsoo, end=\"->\")\n",
    "    elif cheolsoo == 3 :\n",
    "        cheolsoo = random.choice([0, 4, 6])\n",
    "        total *= 3\n",
    "        print(cheolsoo, end=\"->\")\n",
    "    elif cheolsoo == 5 :\n",
    "        cheolsoo = random.choice([2, 4, 8])\n",
    "        total *= 3\n",
    "        print(cheolsoo, end=\"->\")\n",
    "    elif cheolsoo == 6 :\n",
    "        cheolsoo = random.choice([3, 7])\n",
    "        total *= 2\n",
    "        print(cheolsoo, end=\"->\")\n",
    "    elif cheolsoo == 7 :\n",
    "        cheolsoo = random.choice([4, 6, 8])\n",
    "        total *= 3\n",
    "        print(cheolsoo, end=\"->\")\n",
    "    elif cheolsoo == 8 :\n",
    "        if i == 18 :\n",
    "            print(cheolsoo)\n",
    "        else :\n",
    "            print(cheolsoo, end=\"->\")\n",
    "        cheolsoo = random.choice([5, 7])\n",
    "        total *= 2\n",
    "        \n",
    "        \n",
    "        \n",
    "print()\n",
    "print()\n",
    "print(cheolsoo)\n",
    "print(total)"
   ]
  },
  {
   "cell_type": "code",
   "execution_count": 173,
   "metadata": {},
   "outputs": [
    {
     "name": "stdout",
     "output_type": "stream",
     "text": [
      "0\n",
      "1\n",
      "2\n",
      "3\n",
      "4\n",
      "5\n",
      "6\n",
      "7\n",
      "8\n",
      "9\n",
      "10\n",
      "11\n",
      "12\n",
      "13\n",
      "14\n",
      "15\n",
      "16\n",
      "17\n",
      "18\n"
     ]
    }
   ],
   "source": [
    "for i in range(19) :\n",
    "    print(i)"
   ]
  }
 ],
 "metadata": {
  "kernelspec": {
   "display_name": "Python 3",
   "language": "python",
   "name": "python3"
  },
  "language_info": {
   "codemirror_mode": {
    "name": "ipython",
    "version": 3
   },
   "file_extension": ".py",
   "mimetype": "text/x-python",
   "name": "python",
   "nbconvert_exporter": "python",
   "pygments_lexer": "ipython3",
   "version": "3.8.3"
  }
 },
 "nbformat": 4,
 "nbformat_minor": 4
}
